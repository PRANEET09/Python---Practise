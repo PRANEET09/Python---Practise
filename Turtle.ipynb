{
 "cells": [
  {
   "cell_type": "code",
   "execution_count": 2,
   "metadata": {},
   "outputs": [
    {
     "name": "stdout",
     "output_type": "stream",
     "text": [
      "1\n"
     ]
    }
   ],
   "source": [
    "import turtle,random\n",
    "def shapes(c):\n",
    "    \n",
    "    if (c == 1):\n",
    "        X=turtle.numinput(\"\", \"Enter the X-Coordinate\" ,minval = -250,maxval = 250) \n",
    "        Y=turtle.numinput(\"\", \"Enter the Y-Coordinate\" ,minval = -250,maxval = 250) \n",
    "        R=turtle.numinput(\"\", \"Enter the radius\" ,minval = -250,maxval = 250) \n",
    "        color=random.choice(colors)\n",
    "        turtle.up()\n",
    "        turtle.setposition(X,Y)\n",
    "        turtle.pd()\n",
    "        turtle.fillcolor(color)\n",
    "        turtle.begin_fill()\n",
    "        turtle.circle(R)\n",
    "        turtle.end_fill()\n",
    "        e=turtle.numinput(\"\", \"Do you want to exit 1: YES  2: NO \" ,minval =1,maxval = 2) \n",
    "       \n",
    "    if (c == 2):\n",
    "        X=turtle.numinput(\"\", \"Enter the X-Coordinate\" ,minval = -250,maxval = 250) \n",
    "        Y=turtle.numinput(\"\", \"Enter the Y-Coordinate\" ,minval = -250,maxval = 250) \n",
    "        W=turtle.numinput(\"\", \"Enter the Width\" ,minval = -250,maxval = 250) \n",
    "        H=turtle.numinput(\"\", \"Enter the Height\" ,minval = -250,maxval = 250) \n",
    "        \n",
    "        color=random.choice(colors)\n",
    "        turtle.up()\n",
    "        turtle.setposition(X,Y)\n",
    "        turtle.pd()\n",
    "        turtle.fillcolor(color)\n",
    "        turtle.begin_fill()\n",
    "        turtle.forward(W)\n",
    "        turtle.left(90)\n",
    "        turtle.forward(H)\n",
    "        turtle.left(90)\n",
    "        turtle.forward(W)\n",
    "        turtle.left(90)\n",
    "        turtle.forward(H)\n",
    "        turtle.left(90)\n",
    "        turtle.end_fill()\n",
    "        e=turtle.numinput(\"\", \"Do you want to exit 1: YES  2: NO \" ,minval =1,maxval = 2)\n",
    "\n",
    "    if (c == 3):\n",
    "        S=turtle.numinput(\"\", \"Enter the number of sides \" ,minval = 3,maxval = 15)\n",
    "        X=turtle.numinput(\"\", \"Enter the X-Coordinate\" ,minval = -250,maxval = 250) \n",
    "        Y=turtle.numinput(\"\", \"Enter the Y-Coordinate\" ,minval = -250,maxval = 250) \n",
    "        L=turtle.numinput(\"\", \"Enter the length of the sides\" ,minval = -250,maxval = 250) \n",
    "        #H=turtle.numinput(\"\", \"Enter the Height\" ,minval = -250,maxval = 250) \n",
    "        angle=360/S\n",
    "        \n",
    "        color=random.choice(colors)\n",
    "        turtle.up()\n",
    "        turtle.setposition(X,Y)\n",
    "        turtle.pd()\n",
    "        turtle.fillcolor(color)\n",
    "        turtle.begin_fill()\n",
    "        for i in range(int(S)):\n",
    "            turtle.fd(L)\n",
    "            turtle.lt(angle)\n",
    "        turtle.end_fill()\n",
    "        e=turtle.numinput(\"\", \"Do you want to exit 1: YES  2: NO \" ,minval =1,maxval = 2)\n",
    "    \n",
    "    return(int(e))\n",
    "        \n",
    "colors  = [\"red\",\"green\",\"blue\",\"orange\",\"purple\",\"pink\",\"yellow\",\"Violet\",\"Black\"] # Make a list of colors to pick from\n",
    "   \n",
    "#The latter part of the code\n",
    "turtle.reset() \n",
    "while True:\n",
    "    turtle.screensize(250,250)\n",
    "    c=turtle.numinput(\"\", \"What do you want to plot 1:Circle 2:Rectangle/Square 3:Polygon\",minval=1,maxval=3) \n",
    "    a=int(shapes(c))\n",
    "    #a=int(e)\n",
    "    #print(a)\n",
    "    #a=int(e)\n",
    "    if (a == 1):\n",
    "        print(a)\n",
    "        turtle.reset()\n",
    "        break\n",
    "\n",
    "\n",
    "\n",
    "#pip install flask-restful\n"
   ]
  },
  {
   "cell_type": "code",
   "execution_count": null,
   "metadata": {},
   "outputs": [],
   "source": []
  }
 ],
 "metadata": {
  "kernelspec": {
   "display_name": "Python 3",
   "language": "python",
   "name": "python3"
  },
  "language_info": {
   "codemirror_mode": {
    "name": "ipython",
    "version": 3
   },
   "file_extension": ".py",
   "mimetype": "text/x-python",
   "name": "python",
   "nbconvert_exporter": "python",
   "pygments_lexer": "ipython3",
   "version": "3.7.4"
  }
 },
 "nbformat": 4,
 "nbformat_minor": 2
}
